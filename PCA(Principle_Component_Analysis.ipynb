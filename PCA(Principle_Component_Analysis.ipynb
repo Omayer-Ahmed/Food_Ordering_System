{
  "nbformat": 4,
  "nbformat_minor": 0,
  "metadata": {
    "colab": {
      "provenance": [],
      "authorship_tag": "ABX9TyPOCUEiMB2P6wGnjDdg0PTt",
      "include_colab_link": true
    },
    "kernelspec": {
      "name": "python3",
      "display_name": "Python 3"
    },
    "language_info": {
      "name": "python"
    }
  },
  "cells": [
    {
      "cell_type": "markdown",
      "metadata": {
        "id": "view-in-github",
        "colab_type": "text"
      },
      "source": [
        "<a href=\"https://colab.research.google.com/github/Omayer-Ahmed/Machine-Learning/blob/main/PCA(Principle_Component_Analysis.ipynb\" target=\"_parent\"><img src=\"https://colab.research.google.com/assets/colab-badge.svg\" alt=\"Open In Colab\"/></a>"
      ]
    },
    {
      "cell_type": "code",
      "source": [
        "import matplotlib.pyplot as plt\n",
        "import seaborn as sb\n",
        "import numpy as np\n",
        "import pandas as pd\n",
        "%matplotlib inline"
      ],
      "metadata": {
        "id": "cxMugMqXJ54N"
      },
      "execution_count": null,
      "outputs": []
    },
    {
      "cell_type": "code",
      "source": [
        "from google.colab import files\n",
        "files.upload()"
      ],
      "metadata": {
        "colab": {
          "base_uri": "https://localhost:8080/",
          "height": 130
        },
        "id": "ZejfUgPKJ578",
        "outputId": "257b20eb-1e86-4acc-89d8-9265e70e1d23"
      },
      "execution_count": null,
      "outputs": [
        {
          "output_type": "display_data",
          "data": {
            "text/plain": [
              "<IPython.core.display.HTML object>"
            ],
            "text/html": [
              "\n",
              "     <input type=\"file\" id=\"files-f04023c1-2281-44ed-83e3-4366bce78049\" name=\"files[]\" multiple disabled\n",
              "        style=\"border:none\" />\n",
              "     <output id=\"result-f04023c1-2281-44ed-83e3-4366bce78049\">\n",
              "      Upload widget is only available when the cell has been executed in the\n",
              "      current browser session. Please rerun this cell to enable.\n",
              "      </output>\n",
              "      <script>// Copyright 2017 Google LLC\n",
              "//\n",
              "// Licensed under the Apache License, Version 2.0 (the \"License\");\n",
              "// you may not use this file except in compliance with the License.\n",
              "// You may obtain a copy of the License at\n",
              "//\n",
              "//      http://www.apache.org/licenses/LICENSE-2.0\n",
              "//\n",
              "// Unless required by applicable law or agreed to in writing, software\n",
              "// distributed under the License is distributed on an \"AS IS\" BASIS,\n",
              "// WITHOUT WARRANTIES OR CONDITIONS OF ANY KIND, either express or implied.\n",
              "// See the License for the specific language governing permissions and\n",
              "// limitations under the License.\n",
              "\n",
              "/**\n",
              " * @fileoverview Helpers for google.colab Python module.\n",
              " */\n",
              "(function(scope) {\n",
              "function span(text, styleAttributes = {}) {\n",
              "  const element = document.createElement('span');\n",
              "  element.textContent = text;\n",
              "  for (const key of Object.keys(styleAttributes)) {\n",
              "    element.style[key] = styleAttributes[key];\n",
              "  }\n",
              "  return element;\n",
              "}\n",
              "\n",
              "// Max number of bytes which will be uploaded at a time.\n",
              "const MAX_PAYLOAD_SIZE = 100 * 1024;\n",
              "\n",
              "function _uploadFiles(inputId, outputId) {\n",
              "  const steps = uploadFilesStep(inputId, outputId);\n",
              "  const outputElement = document.getElementById(outputId);\n",
              "  // Cache steps on the outputElement to make it available for the next call\n",
              "  // to uploadFilesContinue from Python.\n",
              "  outputElement.steps = steps;\n",
              "\n",
              "  return _uploadFilesContinue(outputId);\n",
              "}\n",
              "\n",
              "// This is roughly an async generator (not supported in the browser yet),\n",
              "// where there are multiple asynchronous steps and the Python side is going\n",
              "// to poll for completion of each step.\n",
              "// This uses a Promise to block the python side on completion of each step,\n",
              "// then passes the result of the previous step as the input to the next step.\n",
              "function _uploadFilesContinue(outputId) {\n",
              "  const outputElement = document.getElementById(outputId);\n",
              "  const steps = outputElement.steps;\n",
              "\n",
              "  const next = steps.next(outputElement.lastPromiseValue);\n",
              "  return Promise.resolve(next.value.promise).then((value) => {\n",
              "    // Cache the last promise value to make it available to the next\n",
              "    // step of the generator.\n",
              "    outputElement.lastPromiseValue = value;\n",
              "    return next.value.response;\n",
              "  });\n",
              "}\n",
              "\n",
              "/**\n",
              " * Generator function which is called between each async step of the upload\n",
              " * process.\n",
              " * @param {string} inputId Element ID of the input file picker element.\n",
              " * @param {string} outputId Element ID of the output display.\n",
              " * @return {!Iterable<!Object>} Iterable of next steps.\n",
              " */\n",
              "function* uploadFilesStep(inputId, outputId) {\n",
              "  const inputElement = document.getElementById(inputId);\n",
              "  inputElement.disabled = false;\n",
              "\n",
              "  const outputElement = document.getElementById(outputId);\n",
              "  outputElement.innerHTML = '';\n",
              "\n",
              "  const pickedPromise = new Promise((resolve) => {\n",
              "    inputElement.addEventListener('change', (e) => {\n",
              "      resolve(e.target.files);\n",
              "    });\n",
              "  });\n",
              "\n",
              "  const cancel = document.createElement('button');\n",
              "  inputElement.parentElement.appendChild(cancel);\n",
              "  cancel.textContent = 'Cancel upload';\n",
              "  const cancelPromise = new Promise((resolve) => {\n",
              "    cancel.onclick = () => {\n",
              "      resolve(null);\n",
              "    };\n",
              "  });\n",
              "\n",
              "  // Wait for the user to pick the files.\n",
              "  const files = yield {\n",
              "    promise: Promise.race([pickedPromise, cancelPromise]),\n",
              "    response: {\n",
              "      action: 'starting',\n",
              "    }\n",
              "  };\n",
              "\n",
              "  cancel.remove();\n",
              "\n",
              "  // Disable the input element since further picks are not allowed.\n",
              "  inputElement.disabled = true;\n",
              "\n",
              "  if (!files) {\n",
              "    return {\n",
              "      response: {\n",
              "        action: 'complete',\n",
              "      }\n",
              "    };\n",
              "  }\n",
              "\n",
              "  for (const file of files) {\n",
              "    const li = document.createElement('li');\n",
              "    li.append(span(file.name, {fontWeight: 'bold'}));\n",
              "    li.append(span(\n",
              "        `(${file.type || 'n/a'}) - ${file.size} bytes, ` +\n",
              "        `last modified: ${\n",
              "            file.lastModifiedDate ? file.lastModifiedDate.toLocaleDateString() :\n",
              "                                    'n/a'} - `));\n",
              "    const percent = span('0% done');\n",
              "    li.appendChild(percent);\n",
              "\n",
              "    outputElement.appendChild(li);\n",
              "\n",
              "    const fileDataPromise = new Promise((resolve) => {\n",
              "      const reader = new FileReader();\n",
              "      reader.onload = (e) => {\n",
              "        resolve(e.target.result);\n",
              "      };\n",
              "      reader.readAsArrayBuffer(file);\n",
              "    });\n",
              "    // Wait for the data to be ready.\n",
              "    let fileData = yield {\n",
              "      promise: fileDataPromise,\n",
              "      response: {\n",
              "        action: 'continue',\n",
              "      }\n",
              "    };\n",
              "\n",
              "    // Use a chunked sending to avoid message size limits. See b/62115660.\n",
              "    let position = 0;\n",
              "    do {\n",
              "      const length = Math.min(fileData.byteLength - position, MAX_PAYLOAD_SIZE);\n",
              "      const chunk = new Uint8Array(fileData, position, length);\n",
              "      position += length;\n",
              "\n",
              "      const base64 = btoa(String.fromCharCode.apply(null, chunk));\n",
              "      yield {\n",
              "        response: {\n",
              "          action: 'append',\n",
              "          file: file.name,\n",
              "          data: base64,\n",
              "        },\n",
              "      };\n",
              "\n",
              "      let percentDone = fileData.byteLength === 0 ?\n",
              "          100 :\n",
              "          Math.round((position / fileData.byteLength) * 100);\n",
              "      percent.textContent = `${percentDone}% done`;\n",
              "\n",
              "    } while (position < fileData.byteLength);\n",
              "  }\n",
              "\n",
              "  // All done.\n",
              "  yield {\n",
              "    response: {\n",
              "      action: 'complete',\n",
              "    }\n",
              "  };\n",
              "}\n",
              "\n",
              "scope.google = scope.google || {};\n",
              "scope.google.colab = scope.google.colab || {};\n",
              "scope.google.colab._files = {\n",
              "  _uploadFiles,\n",
              "  _uploadFilesContinue,\n",
              "};\n",
              "})(self);\n",
              "</script> "
            ]
          },
          "metadata": {}
        },
        {
          "output_type": "stream",
          "name": "stdout",
          "text": [
            "Saving heart_desease_data.csv to heart_desease_data.csv\n"
          ]
        },
        {
          "output_type": "execute_result",
          "data": {
            "text/plain": [
              "{'heart_desease_data.csv': b'age,sex,cp,trestbps,chol,fbs,restecg,thalach,exang,oldpeak,slope,ca,thal,target\\r\\n63,1,3,145,233,1,0,150,0,2.3,0,0,1,1\\r\\n37,1,2,130,250,0,1,187,0,3.5,0,0,2,1\\r\\n41,0,1,130,204,0,0,172,0,1.4,2,0,2,1\\r\\n56,1,1,120,236,0,1,178,0,0.8,2,0,2,1\\r\\n57,0,0,120,354,0,1,163,1,0.6,2,0,2,1\\r\\n57,1,0,140,192,0,1,148,0,0.4,1,0,1,1\\r\\n56,0,1,140,294,0,0,153,0,1.3,1,0,2,1\\r\\n44,1,1,120,263,0,1,173,0,0,2,0,3,1\\r\\n52,1,2,172,199,1,1,162,0,0.5,2,0,3,1\\r\\n57,1,2,150,168,0,1,174,0,1.6,2,0,2,1\\r\\n54,1,0,140,239,0,1,160,0,1.2,2,0,2,1\\r\\n48,0,2,130,275,0,1,139,0,0.2,2,0,2,1\\r\\n49,1,1,130,266,0,1,171,0,0.6,2,0,2,1\\r\\n64,1,3,110,211,0,0,144,1,1.8,1,0,2,1\\r\\n58,0,3,150,283,1,0,162,0,1,2,0,2,1\\r\\n50,0,2,120,219,0,1,158,0,1.6,1,0,2,1\\r\\n58,0,2,120,340,0,1,172,0,0,2,0,2,1\\r\\n66,0,3,150,226,0,1,114,0,2.6,0,0,2,1\\r\\n43,1,0,150,247,0,1,171,0,1.5,2,0,2,1\\r\\n69,0,3,140,239,0,1,151,0,1.8,2,2,2,1\\r\\n59,1,0,135,234,0,1,161,0,0.5,1,0,3,1\\r\\n44,1,2,130,233,0,1,179,1,0.4,2,0,2,1\\r\\n42,1,0,140,226,0,1,178,0,0,2,0,2,1\\r\\n61,1,2,150,243,1,1,137,1,1,1,0,2,1\\r\\n40,1,3,140,199,0,1,178,1,1.4,2,0,3,1\\r\\n71,0,1,160,302,0,1,162,0,0.4,2,2,2,1\\r\\n59,1,2,150,212,1,1,157,0,1.6,2,0,2,1\\r\\n51,1,2,110,175,0,1,123,0,0.6,2,0,2,1\\r\\n65,0,2,140,417,1,0,157,0,0.8,2,1,2,1\\r\\n53,1,2,130,197,1,0,152,0,1.2,0,0,2,1\\r\\n41,0,1,105,198,0,1,168,0,0,2,1,2,1\\r\\n65,1,0,120,177,0,1,140,0,0.4,2,0,3,1\\r\\n44,1,1,130,219,0,0,188,0,0,2,0,2,1\\r\\n54,1,2,125,273,0,0,152,0,0.5,0,1,2,1\\r\\n51,1,3,125,213,0,0,125,1,1.4,2,1,2,1\\r\\n46,0,2,142,177,0,0,160,1,1.4,0,0,2,1\\r\\n54,0,2,135,304,1,1,170,0,0,2,0,2,1\\r\\n54,1,2,150,232,0,0,165,0,1.6,2,0,3,1\\r\\n65,0,2,155,269,0,1,148,0,0.8,2,0,2,1\\r\\n65,0,2,160,360,0,0,151,0,0.8,2,0,2,1\\r\\n51,0,2,140,308,0,0,142,0,1.5,2,1,2,1\\r\\n48,1,1,130,245,0,0,180,0,0.2,1,0,2,1\\r\\n45,1,0,104,208,0,0,148,1,3,1,0,2,1\\r\\n53,0,0,130,264,0,0,143,0,0.4,1,0,2,1\\r\\n39,1,2,140,321,0,0,182,0,0,2,0,2,1\\r\\n52,1,1,120,325,0,1,172,0,0.2,2,0,2,1\\r\\n44,1,2,140,235,0,0,180,0,0,2,0,2,1\\r\\n47,1,2,138,257,0,0,156,0,0,2,0,2,1\\r\\n53,0,2,128,216,0,0,115,0,0,2,0,0,1\\r\\n53,0,0,138,234,0,0,160,0,0,2,0,2,1\\r\\n51,0,2,130,256,0,0,149,0,0.5,2,0,2,1\\r\\n66,1,0,120,302,0,0,151,0,0.4,1,0,2,1\\r\\n62,1,2,130,231,0,1,146,0,1.8,1,3,3,1\\r\\n44,0,2,108,141,0,1,175,0,0.6,1,0,2,1\\r\\n63,0,2,135,252,0,0,172,0,0,2,0,2,1\\r\\n52,1,1,134,201,0,1,158,0,0.8,2,1,2,1\\r\\n48,1,0,122,222,0,0,186,0,0,2,0,2,1\\r\\n45,1,0,115,260,0,0,185,0,0,2,0,2,1\\r\\n34,1,3,118,182,0,0,174,0,0,2,0,2,1\\r\\n57,0,0,128,303,0,0,159,0,0,2,1,2,1\\r\\n71,0,2,110,265,1,0,130,0,0,2,1,2,1\\r\\n54,1,1,108,309,0,1,156,0,0,2,0,3,1\\r\\n52,1,3,118,186,0,0,190,0,0,1,0,1,1\\r\\n41,1,1,135,203,0,1,132,0,0,1,0,1,1\\r\\n58,1,2,140,211,1,0,165,0,0,2,0,2,1\\r\\n35,0,0,138,183,0,1,182,0,1.4,2,0,2,1\\r\\n51,1,2,100,222,0,1,143,1,1.2,1,0,2,1\\r\\n45,0,1,130,234,0,0,175,0,0.6,1,0,2,1\\r\\n44,1,1,120,220,0,1,170,0,0,2,0,2,1\\r\\n62,0,0,124,209,0,1,163,0,0,2,0,2,1\\r\\n54,1,2,120,258,0,0,147,0,0.4,1,0,3,1\\r\\n51,1,2,94,227,0,1,154,1,0,2,1,3,1\\r\\n29,1,1,130,204,0,0,202,0,0,2,0,2,1\\r\\n51,1,0,140,261,0,0,186,1,0,2,0,2,1\\r\\n43,0,2,122,213,0,1,165,0,0.2,1,0,2,1\\r\\n55,0,1,135,250,0,0,161,0,1.4,1,0,2,1\\r\\n51,1,2,125,245,1,0,166,0,2.4,1,0,2,1\\r\\n59,1,1,140,221,0,1,164,1,0,2,0,2,1\\r\\n52,1,1,128,205,1,1,184,0,0,2,0,2,1\\r\\n58,1,2,105,240,0,0,154,1,0.6,1,0,3,1\\r\\n41,1,2,112,250,0,1,179,0,0,2,0,2,1\\r\\n45,1,1,128,308,0,0,170,0,0,2,0,2,1\\r\\n60,0,2,102,318,0,1,160,0,0,2,1,2,1\\r\\n52,1,3,152,298,1,1,178,0,1.2,1,0,3,1\\r\\n42,0,0,102,265,0,0,122,0,0.6,1,0,2,1\\r\\n67,0,2,115,564,0,0,160,0,1.6,1,0,3,1\\r\\n68,1,2,118,277,0,1,151,0,1,2,1,3,1\\r\\n46,1,1,101,197,1,1,156,0,0,2,0,3,1\\r\\n54,0,2,110,214,0,1,158,0,1.6,1,0,2,1\\r\\n58,0,0,100,248,0,0,122,0,1,1,0,2,1\\r\\n48,1,2,124,255,1,1,175,0,0,2,2,2,1\\r\\n57,1,0,132,207,0,1,168,1,0,2,0,3,1\\r\\n52,1,2,138,223,0,1,169,0,0,2,4,2,1\\r\\n54,0,1,132,288,1,0,159,1,0,2,1,2,1\\r\\n45,0,1,112,160,0,1,138,0,0,1,0,2,1\\r\\n53,1,0,142,226,0,0,111,1,0,2,0,3,1\\r\\n62,0,0,140,394,0,0,157,0,1.2,1,0,2,1\\r\\n52,1,0,108,233,1,1,147,0,0.1,2,3,3,1\\r\\n43,1,2,130,315,0,1,162,0,1.9,2,1,2,1\\r\\n53,1,2,130,246,1,0,173,0,0,2,3,2,1\\r\\n42,1,3,148,244,0,0,178,0,0.8,2,2,2,1\\r\\n59,1,3,178,270,0,0,145,0,4.2,0,0,3,1\\r\\n63,0,1,140,195,0,1,179,0,0,2,2,2,1\\r\\n42,1,2,120,240,1,1,194,0,0.8,0,0,3,1\\r\\n50,1,2,129,196,0,1,163,0,0,2,0,2,1\\r\\n68,0,2,120,211,0,0,115,0,1.5,1,0,2,1\\r\\n69,1,3,160,234,1,0,131,0,0.1,1,1,2,1\\r\\n45,0,0,138,236,0,0,152,1,0.2,1,0,2,1\\r\\n50,0,1,120,244,0,1,162,0,1.1,2,0,2,1\\r\\n50,0,0,110,254,0,0,159,0,0,2,0,2,1\\r\\n64,0,0,180,325,0,1,154,1,0,2,0,2,1\\r\\n57,1,2,150,126,1,1,173,0,0.2,2,1,3,1\\r\\n64,0,2,140,313,0,1,133,0,0.2,2,0,3,1\\r\\n43,1,0,110,211,0,1,161,0,0,2,0,3,1\\r\\n55,1,1,130,262,0,1,155,0,0,2,0,2,1\\r\\n37,0,2,120,215,0,1,170,0,0,2,0,2,1\\r\\n41,1,2,130,214,0,0,168,0,2,1,0,2,1\\r\\n56,1,3,120,193,0,0,162,0,1.9,1,0,3,1\\r\\n46,0,1,105,204,0,1,172,0,0,2,0,2,1\\r\\n46,0,0,138,243,0,0,152,1,0,1,0,2,1\\r\\n64,0,0,130,303,0,1,122,0,2,1,2,2,1\\r\\n59,1,0,138,271,0,0,182,0,0,2,0,2,1\\r\\n41,0,2,112,268,0,0,172,1,0,2,0,2,1\\r\\n54,0,2,108,267,0,0,167,0,0,2,0,2,1\\r\\n39,0,2,94,199,0,1,179,0,0,2,0,2,1\\r\\n34,0,1,118,210,0,1,192,0,0.7,2,0,2,1\\r\\n47,1,0,112,204,0,1,143,0,0.1,2,0,2,1\\r\\n67,0,2,152,277,0,1,172,0,0,2,1,2,1\\r\\n52,0,2,136,196,0,0,169,0,0.1,1,0,2,1\\r\\n74,0,1,120,269,0,0,121,1,0.2,2,1,2,1\\r\\n54,0,2,160,201,0,1,163,0,0,2,1,2,1\\r\\n49,0,1,134,271,0,1,162,0,0,1,0,2,1\\r\\n42,1,1,120,295,0,1,162,0,0,2,0,2,1\\r\\n41,1,1,110,235,0,1,153,0,0,2,0,2,1\\r\\n41,0,1,126,306,0,1,163,0,0,2,0,2,1\\r\\n49,0,0,130,269,0,1,163,0,0,2,0,2,1\\r\\n60,0,2,120,178,1,1,96,0,0,2,0,2,1\\r\\n62,1,1,128,208,1,0,140,0,0,2,0,2,1\\r\\n57,1,0,110,201,0,1,126,1,1.5,1,0,1,1\\r\\n64,1,0,128,263,0,1,105,1,0.2,1,1,3,1\\r\\n51,0,2,120,295,0,0,157,0,0.6,2,0,2,1\\r\\n43,1,0,115,303,0,1,181,0,1.2,1,0,2,1\\r\\n42,0,2,120,209,0,1,173,0,0,1,0,2,1\\r\\n67,0,0,106,223,0,1,142,0,0.3,2,2,2,1\\r\\n76,0,2,140,197,0,2,116,0,1.1,1,0,2,1\\r\\n70,1,1,156,245,0,0,143,0,0,2,0,2,1\\r\\n44,0,2,118,242,0,1,149,0,0.3,1,1,2,1\\r\\n60,0,3,150,240,0,1,171,0,0.9,2,0,2,1\\r\\n44,1,2,120,226,0,1,169,0,0,2,0,2,1\\r\\n42,1,2,130,180,0,1,150,0,0,2,0,2,1\\r\\n66,1,0,160,228,0,0,138,0,2.3,2,0,1,1\\r\\n71,0,0,112,149,0,1,125,0,1.6,1,0,2,1\\r\\n64,1,3,170,227,0,0,155,0,0.6,1,0,3,1\\r\\n66,0,2,146,278,0,0,152,0,0,1,1,2,1\\r\\n39,0,2,138,220,0,1,152,0,0,1,0,2,1\\r\\n58,0,0,130,197,0,1,131,0,0.6,1,0,2,1\\r\\n47,1,2,130,253,0,1,179,0,0,2,0,2,1\\r\\n35,1,1,122,192,0,1,174,0,0,2,0,2,1\\r\\n58,1,1,125,220,0,1,144,0,0.4,1,4,3,1\\r\\n56,1,1,130,221,0,0,163,0,0,2,0,3,1\\r\\n56,1,1,120,240,0,1,169,0,0,0,0,2,1\\r\\n55,0,1,132,342,0,1,166,0,1.2,2,0,2,1\\r\\n41,1,1,120,157,0,1,182,0,0,2,0,2,1\\r\\n38,1,2,138,175,0,1,173,0,0,2,4,2,1\\r\\n38,1,2,138,175,0,1,173,0,0,2,4,2,1\\r\\n67,1,0,160,286,0,0,108,1,1.5,1,3,2,0\\r\\n67,1,0,120,229,0,0,129,1,2.6,1,2,3,0\\r\\n62,0,0,140,268,0,0,160,0,3.6,0,2,2,0\\r\\n63,1,0,130,254,0,0,147,0,1.4,1,1,3,0\\r\\n53,1,0,140,203,1,0,155,1,3.1,0,0,3,0\\r\\n56,1,2,130,256,1,0,142,1,0.6,1,1,1,0\\r\\n48,1,1,110,229,0,1,168,0,1,0,0,3,0\\r\\n58,1,1,120,284,0,0,160,0,1.8,1,0,2,0\\r\\n58,1,2,132,224,0,0,173,0,3.2,2,2,3,0\\r\\n60,1,0,130,206,0,0,132,1,2.4,1,2,3,0\\r\\n40,1,0,110,167,0,0,114,1,2,1,0,3,0\\r\\n60,1,0,117,230,1,1,160,1,1.4,2,2,3,0\\r\\n64,1,2,140,335,0,1,158,0,0,2,0,2,0\\r\\n43,1,0,120,177,0,0,120,1,2.5,1,0,3,0\\r\\n57,1,0,150,276,0,0,112,1,0.6,1,1,1,0\\r\\n55,1,0,132,353,0,1,132,1,1.2,1,1,3,0\\r\\n65,0,0,150,225,0,0,114,0,1,1,3,3,0\\r\\n61,0,0,130,330,0,0,169,0,0,2,0,2,0\\r\\n58,1,2,112,230,0,0,165,0,2.5,1,1,3,0\\r\\n50,1,0,150,243,0,0,128,0,2.6,1,0,3,0\\r\\n44,1,0,112,290,0,0,153,0,0,2,1,2,0\\r\\n60,1,0,130,253,0,1,144,1,1.4,2,1,3,0\\r\\n54,1,0,124,266,0,0,109,1,2.2,1,1,3,0\\r\\n50,1,2,140,233,0,1,163,0,0.6,1,1,3,0\\r\\n41,1,0,110,172,0,0,158,0,0,2,0,3,0\\r\\n51,0,0,130,305,0,1,142,1,1.2,1,0,3,0\\r\\n58,1,0,128,216,0,0,131,1,2.2,1,3,3,0\\r\\n54,1,0,120,188,0,1,113,0,1.4,1,1,3,0\\r\\n60,1,0,145,282,0,0,142,1,2.8,1,2,3,0\\r\\n60,1,2,140,185,0,0,155,0,3,1,0,2,0\\r\\n59,1,0,170,326,0,0,140,1,3.4,0,0,3,0\\r\\n46,1,2,150,231,0,1,147,0,3.6,1,0,2,0\\r\\n67,1,0,125,254,1,1,163,0,0.2,1,2,3,0\\r\\n62,1,0,120,267,0,1,99,1,1.8,1,2,3,0\\r\\n65,1,0,110,248,0,0,158,0,0.6,2,2,1,0\\r\\n44,1,0,110,197,0,0,177,0,0,2,1,2,0\\r\\n60,1,0,125,258,0,0,141,1,2.8,1,1,3,0\\r\\n58,1,0,150,270,0,0,111,1,0.8,2,0,3,0\\r\\n68,1,2,180,274,1,0,150,1,1.6,1,0,3,0\\r\\n62,0,0,160,164,0,0,145,0,6.2,0,3,3,0\\r\\n52,1,0,128,255,0,1,161,1,0,2,1,3,0\\r\\n59,1,0,110,239,0,0,142,1,1.2,1,1,3,0\\r\\n60,0,0,150,258,0,0,157,0,2.6,1,2,3,0\\r\\n49,1,2,120,188,0,1,139,0,2,1,3,3,0\\r\\n59,1,0,140,177,0,1,162,1,0,2,1,3,0\\r\\n57,1,2,128,229,0,0,150,0,0.4,1,1,3,0\\r\\n61,1,0,120,260,0,1,140,1,3.6,1,1,3,0\\r\\n39,1,0,118,219,0,1,140,0,1.2,1,0,3,0\\r\\n61,0,0,145,307,0,0,146,1,1,1,0,3,0\\r\\n56,1,0,125,249,1,0,144,1,1.2,1,1,2,0\\r\\n43,0,0,132,341,1,0,136,1,3,1,0,3,0\\r\\n62,0,2,130,263,0,1,97,0,1.2,1,1,3,0\\r\\n63,1,0,130,330,1,0,132,1,1.8,2,3,3,0\\r\\n65,1,0,135,254,0,0,127,0,2.8,1,1,3,0\\r\\n48,1,0,130,256,1,0,150,1,0,2,2,3,0\\r\\n63,0,0,150,407,0,0,154,0,4,1,3,3,0\\r\\n55,1,0,140,217,0,1,111,1,5.6,0,0,3,0\\r\\n65,1,3,138,282,1,0,174,0,1.4,1,1,2,0\\r\\n56,0,0,200,288,1,0,133,1,4,0,2,3,0\\r\\n54,1,0,110,239,0,1,126,1,2.8,1,1,3,0\\r\\n70,1,0,145,174,0,1,125,1,2.6,0,0,3,0\\r\\n62,1,1,120,281,0,0,103,0,1.4,1,1,3,0\\r\\n35,1,0,120,198,0,1,130,1,1.6,1,0,3,0\\r\\n59,1,3,170,288,0,0,159,0,0.2,1,0,3,0\\r\\n64,1,2,125,309,0,1,131,1,1.8,1,0,3,0\\r\\n47,1,2,108,243,0,1,152,0,0,2,0,2,0\\r\\n57,1,0,165,289,1,0,124,0,1,1,3,3,0\\r\\n55,1,0,160,289,0,0,145,1,0.8,1,1,3,0\\r\\n64,1,0,120,246,0,0,96,1,2.2,0,1,2,0\\r\\n70,1,0,130,322,0,0,109,0,2.4,1,3,2,0\\r\\n51,1,0,140,299,0,1,173,1,1.6,2,0,3,0\\r\\n58,1,0,125,300,0,0,171,0,0,2,2,3,0\\r\\n60,1,0,140,293,0,0,170,0,1.2,1,2,3,0\\r\\n77,1,0,125,304,0,0,162,1,0,2,3,2,0\\r\\n35,1,0,126,282,0,0,156,1,0,2,0,3,0\\r\\n70,1,2,160,269,0,1,112,1,2.9,1,1,3,0\\r\\n59,0,0,174,249,0,1,143,1,0,1,0,2,0\\r\\n64,1,0,145,212,0,0,132,0,2,1,2,1,0\\r\\n57,1,0,152,274,0,1,88,1,1.2,1,1,3,0\\r\\n56,1,0,132,184,0,0,105,1,2.1,1,1,1,0\\r\\n48,1,0,124,274,0,0,166,0,0.5,1,0,3,0\\r\\n56,0,0,134,409,0,0,150,1,1.9,1,2,3,0\\r\\n66,1,1,160,246,0,1,120,1,0,1,3,1,0\\r\\n54,1,1,192,283,0,0,195,0,0,2,1,3,0\\r\\n69,1,2,140,254,0,0,146,0,2,1,3,3,0\\r\\n51,1,0,140,298,0,1,122,1,4.2,1,3,3,0\\r\\n43,1,0,132,247,1,0,143,1,0.1,1,4,3,0\\r\\n62,0,0,138,294,1,1,106,0,1.9,1,3,2,0\\r\\n67,1,0,100,299,0,0,125,1,0.9,1,2,2,0\\r\\n59,1,3,160,273,0,0,125,0,0,2,0,2,0\\r\\n45,1,0,142,309,0,0,147,1,0,1,3,3,0\\r\\n58,1,0,128,259,0,0,130,1,3,1,2,3,0\\r\\n50,1,0,144,200,0,0,126,1,0.9,1,0,3,0\\r\\n62,0,0,150,244,0,1,154,1,1.4,1,0,2,0\\r\\n38,1,3,120,231,0,1,182,1,3.8,1,0,3,0\\r\\n66,0,0,178,228,1,1,165,1,1,1,2,3,0\\r\\n52,1,0,112,230,0,1,160,0,0,2,1,2,0\\r\\n53,1,0,123,282,0,1,95,1,2,1,2,3,0\\r\\n63,0,0,108,269,0,1,169,1,1.8,1,2,2,0\\r\\n54,1,0,110,206,0,0,108,1,0,1,1,2,0\\r\\n66,1,0,112,212,0,0,132,1,0.1,2,1,2,0\\r\\n55,0,0,180,327,0,2,117,1,3.4,1,0,2,0\\r\\n49,1,2,118,149,0,0,126,0,0.8,2,3,2,0\\r\\n54,1,0,122,286,0,0,116,1,3.2,1,2,2,0\\r\\n56,1,0,130,283,1,0,103,1,1.6,0,0,3,0\\r\\n46,1,0,120,249,0,0,144,0,0.8,2,0,3,0\\r\\n61,1,3,134,234,0,1,145,0,2.6,1,2,2,0\\r\\n67,1,0,120,237,0,1,71,0,1,1,0,2,0\\r\\n58,1,0,100,234,0,1,156,0,0.1,2,1,3,0\\r\\n47,1,0,110,275,0,0,118,1,1,1,1,2,0\\r\\n52,1,0,125,212,0,1,168,0,1,2,2,3,0\\r\\n58,1,0,146,218,0,1,105,0,2,1,1,3,0\\r\\n57,1,1,124,261,0,1,141,0,0.3,2,0,3,0\\r\\n58,0,1,136,319,1,0,152,0,0,2,2,2,0\\r\\n61,1,0,138,166,0,0,125,1,3.6,1,1,2,0\\r\\n42,1,0,136,315,0,1,125,1,1.8,1,0,1,0\\r\\n52,1,0,128,204,1,1,156,1,1,1,0,0,0\\r\\n59,1,2,126,218,1,1,134,0,2.2,1,1,1,0\\r\\n40,1,0,152,223,0,1,181,0,0,2,0,3,0\\r\\n61,1,0,140,207,0,0,138,1,1.9,2,1,3,0\\r\\n46,1,0,140,311,0,1,120,1,1.8,1,2,3,0\\r\\n59,1,3,134,204,0,1,162,0,0.8,2,2,2,0\\r\\n57,1,1,154,232,0,0,164,0,0,2,1,2,0\\r\\n57,1,0,110,335,0,1,143,1,3,1,1,3,0\\r\\n55,0,0,128,205,0,2,130,1,2,1,1,3,0\\r\\n61,1,0,148,203,0,1,161,0,0,2,1,3,0\\r\\n58,1,0,114,318,0,2,140,0,4.4,0,3,1,0\\r\\n58,0,0,170,225,1,0,146,1,2.8,1,2,1,0\\r\\n67,1,2,152,212,0,0,150,0,0.8,1,0,3,0\\r\\n44,1,0,120,169,0,1,144,1,2.8,0,0,1,0\\r\\n63,1,0,140,187,0,0,144,1,4,2,2,3,0\\r\\n63,0,0,124,197,0,1,136,1,0,1,0,2,0\\r\\n59,1,0,164,176,1,0,90,0,1,1,2,1,0\\r\\n57,0,0,140,241,0,1,123,1,0.2,1,0,3,0\\r\\n45,1,3,110,264,0,1,132,0,1.2,1,0,3,0\\r\\n68,1,0,144,193,1,1,141,0,3.4,1,2,3,0\\r\\n57,1,0,130,131,0,1,115,1,1.2,1,1,3,0\\r\\n57,0,1,130,236,0,0,174,0,0,1,1,2,0\\r\\n'}"
            ]
          },
          "metadata": {},
          "execution_count": 6
        }
      ]
    },
    {
      "cell_type": "code",
      "source": [
        "df_csv=pd.read_csv(\"heart_desease_data.csv\")"
      ],
      "metadata": {
        "id": "4eVjw0oJJ5_V"
      },
      "execution_count": null,
      "outputs": []
    },
    {
      "cell_type": "code",
      "source": [
        "df_csv.head()"
      ],
      "metadata": {
        "colab": {
          "base_uri": "https://localhost:8080/",
          "height": 226
        },
        "id": "9UeyDuoFKu5e",
        "outputId": "8b502149-3ade-4e2e-86c5-0776a5d3ee83"
      },
      "execution_count": null,
      "outputs": [
        {
          "output_type": "execute_result",
          "data": {
            "text/plain": [
              "   age  sex  cp  trestbps  chol  fbs  restecg  thalach  exang  oldpeak  slope  \\\n",
              "0   63    1   3       145   233    1        0      150      0      2.3      0   \n",
              "1   37    1   2       130   250    0        1      187      0      3.5      0   \n",
              "2   41    0   1       130   204    0        0      172      0      1.4      2   \n",
              "3   56    1   1       120   236    0        1      178      0      0.8      2   \n",
              "4   57    0   0       120   354    0        1      163      1      0.6      2   \n",
              "\n",
              "   ca  thal  target  \n",
              "0   0     1       1  \n",
              "1   0     2       1  \n",
              "2   0     2       1  \n",
              "3   0     2       1  \n",
              "4   0     2       1  "
            ],
            "text/html": [
              "\n",
              "  <div id=\"df-1d2f31a0-5bc6-4e70-9062-fb1900f58af8\" class=\"colab-df-container\">\n",
              "    <div>\n",
              "<style scoped>\n",
              "    .dataframe tbody tr th:only-of-type {\n",
              "        vertical-align: middle;\n",
              "    }\n",
              "\n",
              "    .dataframe tbody tr th {\n",
              "        vertical-align: top;\n",
              "    }\n",
              "\n",
              "    .dataframe thead th {\n",
              "        text-align: right;\n",
              "    }\n",
              "</style>\n",
              "<table border=\"1\" class=\"dataframe\">\n",
              "  <thead>\n",
              "    <tr style=\"text-align: right;\">\n",
              "      <th></th>\n",
              "      <th>age</th>\n",
              "      <th>sex</th>\n",
              "      <th>cp</th>\n",
              "      <th>trestbps</th>\n",
              "      <th>chol</th>\n",
              "      <th>fbs</th>\n",
              "      <th>restecg</th>\n",
              "      <th>thalach</th>\n",
              "      <th>exang</th>\n",
              "      <th>oldpeak</th>\n",
              "      <th>slope</th>\n",
              "      <th>ca</th>\n",
              "      <th>thal</th>\n",
              "      <th>target</th>\n",
              "    </tr>\n",
              "  </thead>\n",
              "  <tbody>\n",
              "    <tr>\n",
              "      <th>0</th>\n",
              "      <td>63</td>\n",
              "      <td>1</td>\n",
              "      <td>3</td>\n",
              "      <td>145</td>\n",
              "      <td>233</td>\n",
              "      <td>1</td>\n",
              "      <td>0</td>\n",
              "      <td>150</td>\n",
              "      <td>0</td>\n",
              "      <td>2.3</td>\n",
              "      <td>0</td>\n",
              "      <td>0</td>\n",
              "      <td>1</td>\n",
              "      <td>1</td>\n",
              "    </tr>\n",
              "    <tr>\n",
              "      <th>1</th>\n",
              "      <td>37</td>\n",
              "      <td>1</td>\n",
              "      <td>2</td>\n",
              "      <td>130</td>\n",
              "      <td>250</td>\n",
              "      <td>0</td>\n",
              "      <td>1</td>\n",
              "      <td>187</td>\n",
              "      <td>0</td>\n",
              "      <td>3.5</td>\n",
              "      <td>0</td>\n",
              "      <td>0</td>\n",
              "      <td>2</td>\n",
              "      <td>1</td>\n",
              "    </tr>\n",
              "    <tr>\n",
              "      <th>2</th>\n",
              "      <td>41</td>\n",
              "      <td>0</td>\n",
              "      <td>1</td>\n",
              "      <td>130</td>\n",
              "      <td>204</td>\n",
              "      <td>0</td>\n",
              "      <td>0</td>\n",
              "      <td>172</td>\n",
              "      <td>0</td>\n",
              "      <td>1.4</td>\n",
              "      <td>2</td>\n",
              "      <td>0</td>\n",
              "      <td>2</td>\n",
              "      <td>1</td>\n",
              "    </tr>\n",
              "    <tr>\n",
              "      <th>3</th>\n",
              "      <td>56</td>\n",
              "      <td>1</td>\n",
              "      <td>1</td>\n",
              "      <td>120</td>\n",
              "      <td>236</td>\n",
              "      <td>0</td>\n",
              "      <td>1</td>\n",
              "      <td>178</td>\n",
              "      <td>0</td>\n",
              "      <td>0.8</td>\n",
              "      <td>2</td>\n",
              "      <td>0</td>\n",
              "      <td>2</td>\n",
              "      <td>1</td>\n",
              "    </tr>\n",
              "    <tr>\n",
              "      <th>4</th>\n",
              "      <td>57</td>\n",
              "      <td>0</td>\n",
              "      <td>0</td>\n",
              "      <td>120</td>\n",
              "      <td>354</td>\n",
              "      <td>0</td>\n",
              "      <td>1</td>\n",
              "      <td>163</td>\n",
              "      <td>1</td>\n",
              "      <td>0.6</td>\n",
              "      <td>2</td>\n",
              "      <td>0</td>\n",
              "      <td>2</td>\n",
              "      <td>1</td>\n",
              "    </tr>\n",
              "  </tbody>\n",
              "</table>\n",
              "</div>\n",
              "    <div class=\"colab-df-buttons\">\n",
              "\n",
              "  <div class=\"colab-df-container\">\n",
              "    <button class=\"colab-df-convert\" onclick=\"convertToInteractive('df-1d2f31a0-5bc6-4e70-9062-fb1900f58af8')\"\n",
              "            title=\"Convert this dataframe to an interactive table.\"\n",
              "            style=\"display:none;\">\n",
              "\n",
              "  <svg xmlns=\"http://www.w3.org/2000/svg\" height=\"24px\" viewBox=\"0 -960 960 960\">\n",
              "    <path d=\"M120-120v-720h720v720H120Zm60-500h600v-160H180v160Zm220 220h160v-160H400v160Zm0 220h160v-160H400v160ZM180-400h160v-160H180v160Zm440 0h160v-160H620v160ZM180-180h160v-160H180v160Zm440 0h160v-160H620v160Z\"/>\n",
              "  </svg>\n",
              "    </button>\n",
              "\n",
              "  <style>\n",
              "    .colab-df-container {\n",
              "      display:flex;\n",
              "      gap: 12px;\n",
              "    }\n",
              "\n",
              "    .colab-df-convert {\n",
              "      background-color: #E8F0FE;\n",
              "      border: none;\n",
              "      border-radius: 50%;\n",
              "      cursor: pointer;\n",
              "      display: none;\n",
              "      fill: #1967D2;\n",
              "      height: 32px;\n",
              "      padding: 0 0 0 0;\n",
              "      width: 32px;\n",
              "    }\n",
              "\n",
              "    .colab-df-convert:hover {\n",
              "      background-color: #E2EBFA;\n",
              "      box-shadow: 0px 1px 2px rgba(60, 64, 67, 0.3), 0px 1px 3px 1px rgba(60, 64, 67, 0.15);\n",
              "      fill: #174EA6;\n",
              "    }\n",
              "\n",
              "    .colab-df-buttons div {\n",
              "      margin-bottom: 4px;\n",
              "    }\n",
              "\n",
              "    [theme=dark] .colab-df-convert {\n",
              "      background-color: #3B4455;\n",
              "      fill: #D2E3FC;\n",
              "    }\n",
              "\n",
              "    [theme=dark] .colab-df-convert:hover {\n",
              "      background-color: #434B5C;\n",
              "      box-shadow: 0px 1px 3px 1px rgba(0, 0, 0, 0.15);\n",
              "      filter: drop-shadow(0px 1px 2px rgba(0, 0, 0, 0.3));\n",
              "      fill: #FFFFFF;\n",
              "    }\n",
              "  </style>\n",
              "\n",
              "    <script>\n",
              "      const buttonEl =\n",
              "        document.querySelector('#df-1d2f31a0-5bc6-4e70-9062-fb1900f58af8 button.colab-df-convert');\n",
              "      buttonEl.style.display =\n",
              "        google.colab.kernel.accessAllowed ? 'block' : 'none';\n",
              "\n",
              "      async function convertToInteractive(key) {\n",
              "        const element = document.querySelector('#df-1d2f31a0-5bc6-4e70-9062-fb1900f58af8');\n",
              "        const dataTable =\n",
              "          await google.colab.kernel.invokeFunction('convertToInteractive',\n",
              "                                                    [key], {});\n",
              "        if (!dataTable) return;\n",
              "\n",
              "        const docLinkHtml = 'Like what you see? Visit the ' +\n",
              "          '<a target=\"_blank\" href=https://colab.research.google.com/notebooks/data_table.ipynb>data table notebook</a>'\n",
              "          + ' to learn more about interactive tables.';\n",
              "        element.innerHTML = '';\n",
              "        dataTable['output_type'] = 'display_data';\n",
              "        await google.colab.output.renderOutput(dataTable, element);\n",
              "        const docLink = document.createElement('div');\n",
              "        docLink.innerHTML = docLinkHtml;\n",
              "        element.appendChild(docLink);\n",
              "      }\n",
              "    </script>\n",
              "  </div>\n",
              "\n",
              "\n",
              "<div id=\"df-552eb846-1812-4135-94a9-641c55aeebd3\">\n",
              "  <button class=\"colab-df-quickchart\" onclick=\"quickchart('df-552eb846-1812-4135-94a9-641c55aeebd3')\"\n",
              "            title=\"Suggest charts\"\n",
              "            style=\"display:none;\">\n",
              "\n",
              "<svg xmlns=\"http://www.w3.org/2000/svg\" height=\"24px\"viewBox=\"0 0 24 24\"\n",
              "     width=\"24px\">\n",
              "    <g>\n",
              "        <path d=\"M19 3H5c-1.1 0-2 .9-2 2v14c0 1.1.9 2 2 2h14c1.1 0 2-.9 2-2V5c0-1.1-.9-2-2-2zM9 17H7v-7h2v7zm4 0h-2V7h2v10zm4 0h-2v-4h2v4z\"/>\n",
              "    </g>\n",
              "</svg>\n",
              "  </button>\n",
              "\n",
              "<style>\n",
              "  .colab-df-quickchart {\n",
              "      --bg-color: #E8F0FE;\n",
              "      --fill-color: #1967D2;\n",
              "      --hover-bg-color: #E2EBFA;\n",
              "      --hover-fill-color: #174EA6;\n",
              "      --disabled-fill-color: #AAA;\n",
              "      --disabled-bg-color: #DDD;\n",
              "  }\n",
              "\n",
              "  [theme=dark] .colab-df-quickchart {\n",
              "      --bg-color: #3B4455;\n",
              "      --fill-color: #D2E3FC;\n",
              "      --hover-bg-color: #434B5C;\n",
              "      --hover-fill-color: #FFFFFF;\n",
              "      --disabled-bg-color: #3B4455;\n",
              "      --disabled-fill-color: #666;\n",
              "  }\n",
              "\n",
              "  .colab-df-quickchart {\n",
              "    background-color: var(--bg-color);\n",
              "    border: none;\n",
              "    border-radius: 50%;\n",
              "    cursor: pointer;\n",
              "    display: none;\n",
              "    fill: var(--fill-color);\n",
              "    height: 32px;\n",
              "    padding: 0;\n",
              "    width: 32px;\n",
              "  }\n",
              "\n",
              "  .colab-df-quickchart:hover {\n",
              "    background-color: var(--hover-bg-color);\n",
              "    box-shadow: 0 1px 2px rgba(60, 64, 67, 0.3), 0 1px 3px 1px rgba(60, 64, 67, 0.15);\n",
              "    fill: var(--button-hover-fill-color);\n",
              "  }\n",
              "\n",
              "  .colab-df-quickchart-complete:disabled,\n",
              "  .colab-df-quickchart-complete:disabled:hover {\n",
              "    background-color: var(--disabled-bg-color);\n",
              "    fill: var(--disabled-fill-color);\n",
              "    box-shadow: none;\n",
              "  }\n",
              "\n",
              "  .colab-df-spinner {\n",
              "    border: 2px solid var(--fill-color);\n",
              "    border-color: transparent;\n",
              "    border-bottom-color: var(--fill-color);\n",
              "    animation:\n",
              "      spin 1s steps(1) infinite;\n",
              "  }\n",
              "\n",
              "  @keyframes spin {\n",
              "    0% {\n",
              "      border-color: transparent;\n",
              "      border-bottom-color: var(--fill-color);\n",
              "      border-left-color: var(--fill-color);\n",
              "    }\n",
              "    20% {\n",
              "      border-color: transparent;\n",
              "      border-left-color: var(--fill-color);\n",
              "      border-top-color: var(--fill-color);\n",
              "    }\n",
              "    30% {\n",
              "      border-color: transparent;\n",
              "      border-left-color: var(--fill-color);\n",
              "      border-top-color: var(--fill-color);\n",
              "      border-right-color: var(--fill-color);\n",
              "    }\n",
              "    40% {\n",
              "      border-color: transparent;\n",
              "      border-right-color: var(--fill-color);\n",
              "      border-top-color: var(--fill-color);\n",
              "    }\n",
              "    60% {\n",
              "      border-color: transparent;\n",
              "      border-right-color: var(--fill-color);\n",
              "    }\n",
              "    80% {\n",
              "      border-color: transparent;\n",
              "      border-right-color: var(--fill-color);\n",
              "      border-bottom-color: var(--fill-color);\n",
              "    }\n",
              "    90% {\n",
              "      border-color: transparent;\n",
              "      border-bottom-color: var(--fill-color);\n",
              "    }\n",
              "  }\n",
              "</style>\n",
              "\n",
              "  <script>\n",
              "    async function quickchart(key) {\n",
              "      const quickchartButtonEl =\n",
              "        document.querySelector('#' + key + ' button');\n",
              "      quickchartButtonEl.disabled = true;  // To prevent multiple clicks.\n",
              "      quickchartButtonEl.classList.add('colab-df-spinner');\n",
              "      try {\n",
              "        const charts = await google.colab.kernel.invokeFunction(\n",
              "            'suggestCharts', [key], {});\n",
              "      } catch (error) {\n",
              "        console.error('Error during call to suggestCharts:', error);\n",
              "      }\n",
              "      quickchartButtonEl.classList.remove('colab-df-spinner');\n",
              "      quickchartButtonEl.classList.add('colab-df-quickchart-complete');\n",
              "    }\n",
              "    (() => {\n",
              "      let quickchartButtonEl =\n",
              "        document.querySelector('#df-552eb846-1812-4135-94a9-641c55aeebd3 button');\n",
              "      quickchartButtonEl.style.display =\n",
              "        google.colab.kernel.accessAllowed ? 'block' : 'none';\n",
              "    })();\n",
              "  </script>\n",
              "</div>\n",
              "\n",
              "    </div>\n",
              "  </div>\n"
            ],
            "application/vnd.google.colaboratory.intrinsic+json": {
              "type": "dataframe",
              "variable_name": "df_csv",
              "summary": "{\n  \"name\": \"df_csv\",\n  \"rows\": 303,\n  \"fields\": [\n    {\n      \"column\": \"age\",\n      \"properties\": {\n        \"dtype\": \"number\",\n        \"std\": 9,\n        \"min\": 29,\n        \"max\": 77,\n        \"num_unique_values\": 41,\n        \"samples\": [\n          46,\n          66,\n          48\n        ],\n        \"semantic_type\": \"\",\n        \"description\": \"\"\n      }\n    },\n    {\n      \"column\": \"sex\",\n      \"properties\": {\n        \"dtype\": \"number\",\n        \"std\": 0,\n        \"min\": 0,\n        \"max\": 1,\n        \"num_unique_values\": 2,\n        \"samples\": [\n          0,\n          1\n        ],\n        \"semantic_type\": \"\",\n        \"description\": \"\"\n      }\n    },\n    {\n      \"column\": \"cp\",\n      \"properties\": {\n        \"dtype\": \"number\",\n        \"std\": 1,\n        \"min\": 0,\n        \"max\": 3,\n        \"num_unique_values\": 4,\n        \"samples\": [\n          2,\n          0\n        ],\n        \"semantic_type\": \"\",\n        \"description\": \"\"\n      }\n    },\n    {\n      \"column\": \"trestbps\",\n      \"properties\": {\n        \"dtype\": \"number\",\n        \"std\": 17,\n        \"min\": 94,\n        \"max\": 200,\n        \"num_unique_values\": 49,\n        \"samples\": [\n          104,\n          123\n        ],\n        \"semantic_type\": \"\",\n        \"description\": \"\"\n      }\n    },\n    {\n      \"column\": \"chol\",\n      \"properties\": {\n        \"dtype\": \"number\",\n        \"std\": 51,\n        \"min\": 126,\n        \"max\": 564,\n        \"num_unique_values\": 152,\n        \"samples\": [\n          277,\n          169\n        ],\n        \"semantic_type\": \"\",\n        \"description\": \"\"\n      }\n    },\n    {\n      \"column\": \"fbs\",\n      \"properties\": {\n        \"dtype\": \"number\",\n        \"std\": 0,\n        \"min\": 0,\n        \"max\": 1,\n        \"num_unique_values\": 2,\n        \"samples\": [\n          0,\n          1\n        ],\n        \"semantic_type\": \"\",\n        \"description\": \"\"\n      }\n    },\n    {\n      \"column\": \"restecg\",\n      \"properties\": {\n        \"dtype\": \"number\",\n        \"std\": 0,\n        \"min\": 0,\n        \"max\": 2,\n        \"num_unique_values\": 3,\n        \"samples\": [\n          0,\n          1\n        ],\n        \"semantic_type\": \"\",\n        \"description\": \"\"\n      }\n    },\n    {\n      \"column\": \"thalach\",\n      \"properties\": {\n        \"dtype\": \"number\",\n        \"std\": 22,\n        \"min\": 71,\n        \"max\": 202,\n        \"num_unique_values\": 91,\n        \"samples\": [\n          159,\n          152\n        ],\n        \"semantic_type\": \"\",\n        \"description\": \"\"\n      }\n    },\n    {\n      \"column\": \"exang\",\n      \"properties\": {\n        \"dtype\": \"number\",\n        \"std\": 0,\n        \"min\": 0,\n        \"max\": 1,\n        \"num_unique_values\": 2,\n        \"samples\": [\n          1,\n          0\n        ],\n        \"semantic_type\": \"\",\n        \"description\": \"\"\n      }\n    },\n    {\n      \"column\": \"oldpeak\",\n      \"properties\": {\n        \"dtype\": \"number\",\n        \"std\": 1.1610750220686348,\n        \"min\": 0.0,\n        \"max\": 6.2,\n        \"num_unique_values\": 40,\n        \"samples\": [\n          1.9,\n          3.0\n        ],\n        \"semantic_type\": \"\",\n        \"description\": \"\"\n      }\n    },\n    {\n      \"column\": \"slope\",\n      \"properties\": {\n        \"dtype\": \"number\",\n        \"std\": 0,\n        \"min\": 0,\n        \"max\": 2,\n        \"num_unique_values\": 3,\n        \"samples\": [\n          0,\n          2\n        ],\n        \"semantic_type\": \"\",\n        \"description\": \"\"\n      }\n    },\n    {\n      \"column\": \"ca\",\n      \"properties\": {\n        \"dtype\": \"number\",\n        \"std\": 1,\n        \"min\": 0,\n        \"max\": 4,\n        \"num_unique_values\": 5,\n        \"samples\": [\n          2,\n          4\n        ],\n        \"semantic_type\": \"\",\n        \"description\": \"\"\n      }\n    },\n    {\n      \"column\": \"thal\",\n      \"properties\": {\n        \"dtype\": \"number\",\n        \"std\": 0,\n        \"min\": 0,\n        \"max\": 3,\n        \"num_unique_values\": 4,\n        \"samples\": [\n          2,\n          0\n        ],\n        \"semantic_type\": \"\",\n        \"description\": \"\"\n      }\n    },\n    {\n      \"column\": \"target\",\n      \"properties\": {\n        \"dtype\": \"number\",\n        \"std\": 0,\n        \"min\": 0,\n        \"max\": 1,\n        \"num_unique_values\": 2,\n        \"samples\": [\n          0,\n          1\n        ],\n        \"semantic_type\": \"\",\n        \"description\": \"\"\n      }\n    }\n  ]\n}"
            }
          },
          "metadata": {},
          "execution_count": 15
        }
      ]
    },
    {
      "cell_type": "code",
      "source": [
        "df_csv.shape"
      ],
      "metadata": {
        "colab": {
          "base_uri": "https://localhost:8080/"
        },
        "id": "PS8woBuTzW6p",
        "outputId": "24706fef-fe9b-4b05-acdd-d5450c56bddf"
      },
      "execution_count": null,
      "outputs": [
        {
          "output_type": "execute_result",
          "data": {
            "text/plain": [
              "(303, 14)"
            ]
          },
          "metadata": {},
          "execution_count": 34
        }
      ]
    },
    {
      "cell_type": "code",
      "source": [
        "df_csv['target'].value_counts()"
      ],
      "metadata": {
        "colab": {
          "base_uri": "https://localhost:8080/"
        },
        "id": "TD73vgGtKu89",
        "outputId": "0322ffdc-2df6-4f7c-ccec-f7421c1c8a6e"
      },
      "execution_count": null,
      "outputs": [
        {
          "output_type": "execute_result",
          "data": {
            "text/plain": [
              "1    165\n",
              "0    138\n",
              "Name: target, dtype: int64"
            ]
          },
          "metadata": {},
          "execution_count": 35
        }
      ]
    },
    {
      "cell_type": "markdown",
      "source": [
        "##standardization"
      ],
      "metadata": {
        "id": "EjaOPu8Rx0GW"
      }
    },
    {
      "cell_type": "code",
      "source": [
        "from sklearn.preprocessing import StandardScaler\n",
        "obj=StandardScaler()"
      ],
      "metadata": {
        "id": "fVXvevdaKvJL"
      },
      "execution_count": null,
      "outputs": []
    },
    {
      "cell_type": "code",
      "source": [
        "obj.fit(df_csv)"
      ],
      "metadata": {
        "id": "8c4dGywkNmnY"
      },
      "execution_count": null,
      "outputs": []
    },
    {
      "cell_type": "code",
      "source": [
        "scaling_data=obj.transform(df_csv)"
      ],
      "metadata": {
        "id": "HV9qFQoj4ncC"
      },
      "execution_count": null,
      "outputs": []
    },
    {
      "cell_type": "markdown",
      "source": [
        "#applying PCA algorithm"
      ],
      "metadata": {
        "id": "rHNze2SExm79"
      }
    },
    {
      "cell_type": "code",
      "source": [
        "from sklearn.decomposition import PCA\n",
        "obj=PCA(n_components=2)"
      ],
      "metadata": {
        "id": "XH0XeA3vNm0r"
      },
      "execution_count": null,
      "outputs": []
    },
    {
      "cell_type": "code",
      "source": [
        "obj.fit(scaling_data)\n"
      ],
      "metadata": {
        "colab": {
          "base_uri": "https://localhost:8080/",
          "height": 75
        },
        "id": "qGKoK5KRNm4F",
        "outputId": "a76991f2-b4d0-4719-d6b2-97fdff5848d8"
      },
      "execution_count": null,
      "outputs": [
        {
          "output_type": "execute_result",
          "data": {
            "text/plain": [
              "PCA(n_components=2)"
            ],
            "text/html": [
              "<style>#sk-container-id-11 {color: black;background-color: white;}#sk-container-id-11 pre{padding: 0;}#sk-container-id-11 div.sk-toggleable {background-color: white;}#sk-container-id-11 label.sk-toggleable__label {cursor: pointer;display: block;width: 100%;margin-bottom: 0;padding: 0.3em;box-sizing: border-box;text-align: center;}#sk-container-id-11 label.sk-toggleable__label-arrow:before {content: \"▸\";float: left;margin-right: 0.25em;color: #696969;}#sk-container-id-11 label.sk-toggleable__label-arrow:hover:before {color: black;}#sk-container-id-11 div.sk-estimator:hover label.sk-toggleable__label-arrow:before {color: black;}#sk-container-id-11 div.sk-toggleable__content {max-height: 0;max-width: 0;overflow: hidden;text-align: left;background-color: #f0f8ff;}#sk-container-id-11 div.sk-toggleable__content pre {margin: 0.2em;color: black;border-radius: 0.25em;background-color: #f0f8ff;}#sk-container-id-11 input.sk-toggleable__control:checked~div.sk-toggleable__content {max-height: 200px;max-width: 100%;overflow: auto;}#sk-container-id-11 input.sk-toggleable__control:checked~label.sk-toggleable__label-arrow:before {content: \"▾\";}#sk-container-id-11 div.sk-estimator input.sk-toggleable__control:checked~label.sk-toggleable__label {background-color: #d4ebff;}#sk-container-id-11 div.sk-label input.sk-toggleable__control:checked~label.sk-toggleable__label {background-color: #d4ebff;}#sk-container-id-11 input.sk-hidden--visually {border: 0;clip: rect(1px 1px 1px 1px);clip: rect(1px, 1px, 1px, 1px);height: 1px;margin: -1px;overflow: hidden;padding: 0;position: absolute;width: 1px;}#sk-container-id-11 div.sk-estimator {font-family: monospace;background-color: #f0f8ff;border: 1px dotted black;border-radius: 0.25em;box-sizing: border-box;margin-bottom: 0.5em;}#sk-container-id-11 div.sk-estimator:hover {background-color: #d4ebff;}#sk-container-id-11 div.sk-parallel-item::after {content: \"\";width: 100%;border-bottom: 1px solid gray;flex-grow: 1;}#sk-container-id-11 div.sk-label:hover label.sk-toggleable__label {background-color: #d4ebff;}#sk-container-id-11 div.sk-serial::before {content: \"\";position: absolute;border-left: 1px solid gray;box-sizing: border-box;top: 0;bottom: 0;left: 50%;z-index: 0;}#sk-container-id-11 div.sk-serial {display: flex;flex-direction: column;align-items: center;background-color: white;padding-right: 0.2em;padding-left: 0.2em;position: relative;}#sk-container-id-11 div.sk-item {position: relative;z-index: 1;}#sk-container-id-11 div.sk-parallel {display: flex;align-items: stretch;justify-content: center;background-color: white;position: relative;}#sk-container-id-11 div.sk-item::before, #sk-container-id-11 div.sk-parallel-item::before {content: \"\";position: absolute;border-left: 1px solid gray;box-sizing: border-box;top: 0;bottom: 0;left: 50%;z-index: -1;}#sk-container-id-11 div.sk-parallel-item {display: flex;flex-direction: column;z-index: 1;position: relative;background-color: white;}#sk-container-id-11 div.sk-parallel-item:first-child::after {align-self: flex-end;width: 50%;}#sk-container-id-11 div.sk-parallel-item:last-child::after {align-self: flex-start;width: 50%;}#sk-container-id-11 div.sk-parallel-item:only-child::after {width: 0;}#sk-container-id-11 div.sk-dashed-wrapped {border: 1px dashed gray;margin: 0 0.4em 0.5em 0.4em;box-sizing: border-box;padding-bottom: 0.4em;background-color: white;}#sk-container-id-11 div.sk-label label {font-family: monospace;font-weight: bold;display: inline-block;line-height: 1.2em;}#sk-container-id-11 div.sk-label-container {text-align: center;}#sk-container-id-11 div.sk-container {/* jupyter's `normalize.less` sets `[hidden] { display: none; }` but bootstrap.min.css set `[hidden] { display: none !important; }` so we also need the `!important` here to be able to override the default hidden behavior on the sphinx rendered scikit-learn.org. See: https://github.com/scikit-learn/scikit-learn/issues/21755 */display: inline-block !important;position: relative;}#sk-container-id-11 div.sk-text-repr-fallback {display: none;}</style><div id=\"sk-container-id-11\" class=\"sk-top-container\"><div class=\"sk-text-repr-fallback\"><pre>PCA(n_components=2)</pre><b>In a Jupyter environment, please rerun this cell to show the HTML representation or trust the notebook. <br />On GitHub, the HTML representation is unable to render, please try loading this page with nbviewer.org.</b></div><div class=\"sk-container\" hidden><div class=\"sk-item\"><div class=\"sk-estimator sk-toggleable\"><input class=\"sk-toggleable__control sk-hidden--visually\" id=\"sk-estimator-id-11\" type=\"checkbox\" checked><label for=\"sk-estimator-id-11\" class=\"sk-toggleable__label sk-toggleable__label-arrow\">PCA</label><div class=\"sk-toggleable__content\"><pre>PCA(n_components=2)</pre></div></div></div></div></div>"
            ]
          },
          "metadata": {},
          "execution_count": 81
        }
      ]
    },
    {
      "cell_type": "code",
      "source": [
        "x_pca =obj.transform(scaling_data)"
      ],
      "metadata": {
        "id": "OcZ6opOO5DJV"
      },
      "execution_count": null,
      "outputs": []
    },
    {
      "cell_type": "code",
      "source": [
        "scaling_data.shape"
      ],
      "metadata": {
        "colab": {
          "base_uri": "https://localhost:8080/"
        },
        "id": "iGiaiEFQ5muW",
        "outputId": "85297c3c-b31a-4ec7-f728-ff7b7845f3c1"
      },
      "execution_count": null,
      "outputs": [
        {
          "output_type": "execute_result",
          "data": {
            "text/plain": [
              "(303, 14)"
            ]
          },
          "metadata": {},
          "execution_count": 74
        }
      ]
    },
    {
      "cell_type": "code",
      "source": [
        "x_pca.shape"
      ],
      "metadata": {
        "colab": {
          "base_uri": "https://localhost:8080/"
        },
        "id": "vuE575yB5ZHk",
        "outputId": "2f47b351-1156-4fd4-f5ee-10cf0fec8fa4"
      },
      "execution_count": null,
      "outputs": [
        {
          "output_type": "execute_result",
          "data": {
            "text/plain": [
              "(303, 2)"
            ]
          },
          "metadata": {},
          "execution_count": 75
        }
      ]
    },
    {
      "cell_type": "code",
      "source": [
        "obj.explained_variance_"
      ],
      "metadata": {
        "colab": {
          "base_uri": "https://localhost:8080/"
        },
        "id": "HddwjeasPG0S",
        "outputId": "a334c4d0-cfd6-4df8-fbd3-da092b62232a"
      },
      "execution_count": null,
      "outputs": [
        {
          "output_type": "execute_result",
          "data": {
            "text/plain": [
              "array([3.31240732, 1.57737062])"
            ]
          },
          "metadata": {},
          "execution_count": 76
        }
      ]
    },
    {
      "cell_type": "code",
      "source": [
        "plt.figure(figsize=(6,4))\n",
        "plt.scatter(x_pca[:,0],x_pca[:,1],c=df_csv['target'],cmap='plasma')\n",
        "plt.xlabel('First principal component')\n",
        "plt.ylabel('Second principal component')"
      ],
      "metadata": {
        "id": "cmNJVyBePb3U",
        "colab": {
          "base_uri": "https://localhost:8080/",
          "height": 406
        },
        "outputId": "5dd1602b-24cd-48d2-fcc9-40d21fe5606f"
      },
      "execution_count": null,
      "outputs": [
        {
          "output_type": "execute_result",
          "data": {
            "text/plain": [
              "Text(0, 0.5, 'Second principal component')"
            ]
          },
          "metadata": {},
          "execution_count": 78
        },
        {
          "output_type": "display_data",
          "data": {
            "text/plain": [
              "<Figure size 600x400 with 1 Axes>"
            ],
            "image/png": "[encoded data removed]"
          },
          "metadata": {}
        }
      ]
    },
    {
      "cell_type": "code",
      "source": [
        "plt.ylabel('Second principal component')"
      ],
      "metadata": {
        "id": "9F--jzWJ7hf1"
      },
      "execution_count": null,
      "outputs": []
    }
  ]
}