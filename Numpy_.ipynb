{
  "cells": [
    {
      "cell_type": "markdown",
      "metadata": {
        "id": "view-in-github",
        "colab_type": "text"
      },
      "source": [
        "<a href=\"https://colab.research.google.com/github/Omayer-Ahmed/Food_Ordering_System/blob/main/Numpy_.ipynb\" target=\"_parent\"><img src=\"https://colab.research.google.com/assets/colab-badge.svg\" alt=\"Open In Colab\"/></a>"
      ]
    },
    {
      "cell_type": "markdown",
      "id": "394ff6ec",
      "metadata": {
        "id": "394ff6ec"
      },
      "source": [
        "# Numpy as np\n"
      ]
    },
    {
      "cell_type": "markdown",
      "id": "7c050efe",
      "metadata": {
        "id": "7c050efe"
      },
      "source": [
        "why do we use Numpy? It is a library in python. Numpy is used to perform mathematical operation based on array"
      ]
    },
    {
      "cell_type": "markdown",
      "id": "69fad899",
      "metadata": {
        "id": "69fad899"
      },
      "source": [
        "Difference between array and list"
      ]
    },
    {
      "cell_type": "markdown",
      "id": "e5a9f1dd",
      "metadata": {
        "id": "e5a9f1dd"
      },
      "source": [
        "array contains same data type's values but list contains multiple data type's values"
      ]
    },
    {
      "cell_type": "code",
      "execution_count": null,
      "id": "a456326a",
      "metadata": {
        "id": "a456326a"
      },
      "outputs": [],
      "source": [
        "import numpy as np"
      ]
    },
    {
      "cell_type": "code",
      "execution_count": null,
      "id": "a858a68e",
      "metadata": {
        "id": "a858a68e",
        "outputId": "3ea0c4d3-cf89-42d3-de0c-97485c66764a"
      },
      "outputs": [
        {
          "name": "stdout",
          "output_type": "stream",
          "text": [
            "[1 2 3 4]\n"
          ]
        }
      ],
      "source": [
        "#list convert into array\n",
        "lis=[1,2,3,4]\n",
        "arr= np.array(lis)\n",
        "print(arr)"
      ]
    },
    {
      "cell_type": "code",
      "execution_count": null,
      "id": "9e6cc22e",
      "metadata": {
        "id": "9e6cc22e",
        "outputId": "28f69213-3300-4cd4-9b07-d3b3da027897"
      },
      "outputs": [
        {
          "data": {
            "text/plain": [
              "numpy.ndarray"
            ]
          },
          "execution_count": 23,
          "metadata": {},
          "output_type": "execute_result"
        }
      ],
      "source": [
        "type(arr)"
      ]
    },
    {
      "cell_type": "code",
      "execution_count": null,
      "id": "b7da552a",
      "metadata": {
        "id": "b7da552a",
        "outputId": "32bb2476-18f8-47e0-9325-3759d0399643"
      },
      "outputs": [
        {
          "data": {
            "text/plain": [
              "(4,)"
            ]
          },
          "execution_count": 24,
          "metadata": {},
          "output_type": "execute_result"
        }
      ],
      "source": [
        "arr.shape"
      ]
    },
    {
      "cell_type": "code",
      "execution_count": null,
      "id": "24f58f04",
      "metadata": {
        "id": "24f58f04",
        "outputId": "fa0e98e2-7dac-4bc4-d00b-887bec36257e"
      },
      "outputs": [
        {
          "name": "stdout",
          "output_type": "stream",
          "text": [
            "[[ 1  2  3  4]\n",
            " [ 5  6  7  8]\n",
            " [ 9 10 11 12]]\n"
          ]
        }
      ],
      "source": [
        "#multiple list convert in an array\n",
        "lis1=[1,2,3,4]\n",
        "lis2=[5,6,7,8]\n",
        "lis3=[9,10,11,12]\n",
        "\n",
        "arr=np.array([lis1,lis2,lis3])\n",
        "print(arr)"
      ]
    },
    {
      "cell_type": "code",
      "execution_count": null,
      "id": "d7c88e5d",
      "metadata": {
        "id": "d7c88e5d",
        "outputId": "d67130e0-235f-414e-deed-ed3024115742"
      },
      "outputs": [
        {
          "data": {
            "text/plain": [
              "(3, 4)"
            ]
          },
          "execution_count": 26,
          "metadata": {},
          "output_type": "execute_result"
        }
      ],
      "source": [
        "arr.shape"
      ]
    },
    {
      "cell_type": "code",
      "execution_count": null,
      "id": "53f4de6e",
      "metadata": {
        "id": "53f4de6e",
        "outputId": "e39e5c69-092a-43e1-e296-4f64a0ca8a97"
      },
      "outputs": [
        {
          "data": {
            "text/plain": [
              "array([[ 1,  2,  3,  4,  5,  6],\n",
              "       [ 7,  8,  9, 10, 11, 12]])"
            ]
          },
          "execution_count": 27,
          "metadata": {},
          "output_type": "execute_result"
        }
      ],
      "source": [
        "#reshape an array using reshape()\n",
        "arr.reshape(2,6)"
      ]
    },
    {
      "cell_type": "markdown",
      "id": "7dc14cad",
      "metadata": {
        "id": "7dc14cad"
      },
      "source": [
        "one dimensional array access"
      ]
    },
    {
      "cell_type": "code",
      "execution_count": null,
      "id": "59acda71",
      "metadata": {
        "id": "59acda71",
        "outputId": "63442b37-4200-4fe0-ec11-7580720cc9da"
      },
      "outputs": [
        {
          "data": {
            "text/plain": [
              "1"
            ]
          },
          "execution_count": 28,
          "metadata": {},
          "output_type": "execute_result"
        }
      ],
      "source": [
        "item=[1,2,3,4,5]\n",
        "np.array(item)\n",
        "item[4]\n",
        "item[0]"
      ]
    },
    {
      "cell_type": "markdown",
      "id": "c68afa8e",
      "metadata": {
        "id": "c68afa8e"
      },
      "source": [
        "two dimensional array access"
      ]
    },
    {
      "cell_type": "code",
      "execution_count": null,
      "id": "24f8ce59",
      "metadata": {
        "id": "24f8ce59"
      },
      "outputs": [],
      "source": [
        "item=[[1,2,3,4],[4,3,2,1],[5,6,7,8],[8,7,6,5]]\n",
        "arr=np.array(item)"
      ]
    },
    {
      "cell_type": "code",
      "execution_count": null,
      "id": "eff56b05",
      "metadata": {
        "id": "eff56b05",
        "outputId": "d75abb49-2394-4a44-8c6a-9104fa59e3a9"
      },
      "outputs": [
        {
          "data": {
            "text/plain": [
              "array([[1, 2, 3, 4],\n",
              "       [4, 3, 2, 1],\n",
              "       [5, 6, 7, 8],\n",
              "       [8, 7, 6, 5]])"
            ]
          },
          "execution_count": 30,
          "metadata": {},
          "output_type": "execute_result"
        }
      ],
      "source": [
        "arr"
      ]
    },
    {
      "cell_type": "code",
      "execution_count": null,
      "id": "08cf6e9d",
      "metadata": {
        "id": "08cf6e9d",
        "outputId": "3d322617-0d81-4dd0-9fcf-c2ee79c47a74"
      },
      "outputs": [
        {
          "data": {
            "text/plain": [
              "array([[1, 2, 3, 4],\n",
              "       [4, 3, 2, 1],\n",
              "       [5, 6, 7, 8],\n",
              "       [8, 7, 6, 5]])"
            ]
          },
          "execution_count": 41,
          "metadata": {},
          "output_type": "execute_result"
        }
      ],
      "source": [
        "arr[:,:]"
      ]
    },
    {
      "cell_type": "code",
      "execution_count": null,
      "id": "0cf7d8a1",
      "metadata": {
        "id": "0cf7d8a1",
        "outputId": "61aeac95-d37b-426b-b821-30e1b9381142"
      },
      "outputs": [
        {
          "data": {
            "text/plain": [
              "array([[3, 2],\n",
              "       [6, 7]])"
            ]
          },
          "execution_count": 36,
          "metadata": {},
          "output_type": "execute_result"
        }
      ],
      "source": [
        "arr[1:3,1:3]"
      ]
    },
    {
      "cell_type": "code",
      "execution_count": null,
      "id": "e7e2b8eb",
      "metadata": {
        "id": "e7e2b8eb",
        "outputId": "b4c6f275-fb2c-49f4-aaa1-b6cca25f21d0"
      },
      "outputs": [
        {
          "data": {
            "text/plain": [
              "8"
            ]
          },
          "execution_count": 37,
          "metadata": {},
          "output_type": "execute_result"
        }
      ],
      "source": [
        "#access items\n",
        "item[2][3]"
      ]
    },
    {
      "cell_type": "code",
      "execution_count": null,
      "id": "05d4be0c",
      "metadata": {
        "id": "05d4be0c",
        "outputId": "1583e228-cb73-4d26-d39e-02f8eb8f8145"
      },
      "outputs": [
        {
          "data": {
            "text/plain": [
              "array([[2, 1],\n",
              "       [7, 8],\n",
              "       [6, 5]])"
            ]
          },
          "execution_count": 38,
          "metadata": {},
          "output_type": "execute_result"
        }
      ],
      "source": [
        "#access items\n",
        "arr[1:,2:]"
      ]
    },
    {
      "cell_type": "code",
      "execution_count": null,
      "id": "a0ca8289",
      "metadata": {
        "id": "a0ca8289",
        "outputId": "823e3d48-e178-4cee-94a5-8729925b26e6"
      },
      "outputs": [
        {
          "data": {
            "text/plain": [
              "array([[3, 2],\n",
              "       [6, 7]])"
            ]
          },
          "execution_count": 39,
          "metadata": {},
          "output_type": "execute_result"
        }
      ],
      "source": [
        "arr[1:3,1:3]"
      ]
    },
    {
      "cell_type": "code",
      "execution_count": null,
      "id": "59735373",
      "metadata": {
        "id": "59735373",
        "outputId": "2f6b13ae-bea7-4903-c6b2-06b571ccab64"
      },
      "outputs": [
        {
          "data": {
            "text/plain": [
              "array([[2, 3, 4],\n",
              "       [3, 2, 1],\n",
              "       [6, 7, 8],\n",
              "       [7, 6, 5]])"
            ]
          },
          "execution_count": 40,
          "metadata": {},
          "output_type": "execute_result"
        }
      ],
      "source": [
        "arr[0:,1:]"
      ]
    },
    {
      "cell_type": "code",
      "execution_count": null,
      "id": "2f533e45",
      "metadata": {
        "id": "2f533e45"
      },
      "outputs": [],
      "source": [
        "#reshape the array\n",
        "arr=arr.reshape(1,16)"
      ]
    },
    {
      "cell_type": "code",
      "execution_count": null,
      "id": "8927b3fd",
      "metadata": {
        "id": "8927b3fd",
        "outputId": "e27e65c3-b5d2-4d2e-9c2c-96b8cc7d5062"
      },
      "outputs": [
        {
          "data": {
            "text/plain": [
              "array([[1, 2, 3, 4, 4, 3, 2, 1, 5, 6, 7, 8, 8, 7, 6, 5]])"
            ]
          },
          "execution_count": 48,
          "metadata": {},
          "output_type": "execute_result"
        }
      ],
      "source": [
        "arr"
      ]
    },
    {
      "cell_type": "code",
      "execution_count": null,
      "id": "36a06d12",
      "metadata": {
        "id": "36a06d12"
      },
      "outputs": [],
      "source": [
        "item=np.arange(0,16,step=1).reshape(4,4)"
      ]
    },
    {
      "cell_type": "code",
      "execution_count": null,
      "id": "a36a22ac",
      "metadata": {
        "id": "a36a22ac",
        "outputId": "f8c67621-c2b2-49f9-dbac-31dcd28f97d7"
      },
      "outputs": [
        {
          "data": {
            "text/plain": [
              "array([[ 0,  1,  2,  3],\n",
              "       [ 4,  5,  6,  7],\n",
              "       [ 8,  9, 10, 11],\n",
              "       [12, 13, 14, 15]])"
            ]
          },
          "execution_count": 121,
          "metadata": {},
          "output_type": "execute_result"
        }
      ],
      "source": [
        "item"
      ]
    },
    {
      "cell_type": "markdown",
      "id": "3bc7397d",
      "metadata": {
        "id": "3bc7397d"
      },
      "source": [
        "linspace is used to evenly spaced in a specific inverval"
      ]
    },
    {
      "cell_type": "code",
      "execution_count": null,
      "id": "43d4e678",
      "metadata": {
        "id": "43d4e678"
      },
      "outputs": [],
      "source": [
        "lin=np.linspace(0,10,5)"
      ]
    },
    {
      "cell_type": "code",
      "execution_count": null,
      "id": "211811c4",
      "metadata": {
        "id": "211811c4",
        "outputId": "e487a564-1f55-4b24-c412-080177eba61e"
      },
      "outputs": [
        {
          "data": {
            "text/plain": [
              "array([ 0. ,  2.5,  5. ,  7.5, 10. ])"
            ]
          },
          "execution_count": 123,
          "metadata": {},
          "output_type": "execute_result"
        }
      ],
      "source": [
        "lin"
      ]
    },
    {
      "cell_type": "code",
      "execution_count": null,
      "id": "53aa1b77",
      "metadata": {
        "id": "53aa1b77"
      },
      "outputs": [],
      "source": [
        "lin=np.linspace(0,100,30)"
      ]
    },
    {
      "cell_type": "code",
      "execution_count": null,
      "id": "01fd988e",
      "metadata": {
        "id": "01fd988e",
        "outputId": "1e944c1a-9b71-4ffb-8b41-545e1b564a3d"
      },
      "outputs": [
        {
          "data": {
            "text/plain": [
              "array([  0.        ,   3.44827586,   6.89655172,  10.34482759,\n",
              "        13.79310345,  17.24137931,  20.68965517,  24.13793103,\n",
              "        27.5862069 ,  31.03448276,  34.48275862,  37.93103448,\n",
              "        41.37931034,  44.82758621,  48.27586207,  51.72413793,\n",
              "        55.17241379,  58.62068966,  62.06896552,  65.51724138,\n",
              "        68.96551724,  72.4137931 ,  75.86206897,  79.31034483,\n",
              "        82.75862069,  86.20689655,  89.65517241,  93.10344828,\n",
              "        96.55172414, 100.        ])"
            ]
          },
          "execution_count": 125,
          "metadata": {},
          "output_type": "execute_result"
        }
      ],
      "source": [
        "lin"
      ]
    },
    {
      "cell_type": "code",
      "execution_count": null,
      "id": "7567a952",
      "metadata": {
        "id": "7567a952",
        "outputId": "287a3aa6-6a0f-41e6-9cf3-dd9f04ade94e"
      },
      "outputs": [
        {
          "name": "stdout",
          "output_type": "stream",
          "text": [
            "[[1 2 3 4]\n",
            " [4 3 2 1]\n",
            " [5 6 7 8]\n",
            " [8 7 6 5]]\n"
          ]
        }
      ],
      "source": [
        "#change the array elements\n",
        "item=[[1,2,3,4],[4,3,2,1],[5,6,7,8],[8,7,6,5]]\n",
        "arr=np.array(item)\n",
        "print(arr)"
      ]
    },
    {
      "cell_type": "code",
      "execution_count": null,
      "id": "1a4d8980",
      "metadata": {
        "id": "1a4d8980"
      },
      "outputs": [],
      "source": [
        "arr[3:,2:]=100"
      ]
    },
    {
      "cell_type": "code",
      "execution_count": null,
      "id": "7897f209",
      "metadata": {
        "id": "7897f209",
        "outputId": "b4076792-a8c0-46f7-d9d9-5744ac379f9c"
      },
      "outputs": [
        {
          "name": "stdout",
          "output_type": "stream",
          "text": [
            "[[  1   2   3   4]\n",
            " [  4   3   2   1]\n",
            " [  5   6   7   8]\n",
            " [  8   7 100 100]]\n"
          ]
        }
      ],
      "source": [
        "print(arr)"
      ]
    },
    {
      "cell_type": "code",
      "execution_count": null,
      "id": "260c59c6",
      "metadata": {
        "id": "260c59c6",
        "outputId": "e2639036-9b5a-4f37-93cd-9daf56a42ff8"
      },
      "outputs": [
        {
          "name": "stdout",
          "output_type": "stream",
          "text": [
            "[[  1   2   3   4]\n",
            " [  4   3 200 200]\n",
            " [  5   6 200 200]\n",
            " [  8   7 100 100]]\n"
          ]
        }
      ],
      "source": [
        "arr[1:3,2:4]=200\n",
        "print(arr)"
      ]
    },
    {
      "cell_type": "code",
      "execution_count": null,
      "id": "39fefd3c",
      "metadata": {
        "id": "39fefd3c",
        "outputId": "8d4c1317-0c08-4853-bd0d-4f9fa394d717"
      },
      "outputs": [
        {
          "data": {
            "text/plain": [
              "array([[  3,   4,   5,   6],\n",
              "       [  6,   5, 202, 202],\n",
              "       [  7,   8, 202, 202],\n",
              "       [ 10,   9, 102, 102]])"
            ]
          },
          "execution_count": 130,
          "metadata": {},
          "output_type": "execute_result"
        }
      ],
      "source": [
        "#add 2 with array's every element\n",
        "arr+2"
      ]
    },
    {
      "cell_type": "code",
      "execution_count": null,
      "id": "83be934f",
      "metadata": {
        "id": "83be934f",
        "outputId": "58c2bce1-02ca-49cf-ca66-960dbc47a859"
      },
      "outputs": [
        {
          "data": {
            "text/plain": [
              "array([[  3,   6,   9,  12],\n",
              "       [ 12,   9, 600, 600],\n",
              "       [ 15,  18, 600, 600],\n",
              "       [ 24,  21, 300, 300]])"
            ]
          },
          "execution_count": 131,
          "metadata": {},
          "output_type": "execute_result"
        }
      ],
      "source": [
        "#multiplication 3 with array's every element\n",
        "arr*3"
      ]
    },
    {
      "cell_type": "code",
      "execution_count": null,
      "id": "7de195bd",
      "metadata": {
        "id": "7de195bd",
        "outputId": "978bddee-5019-445a-f287-d2440e691731"
      },
      "outputs": [
        {
          "data": {
            "text/plain": [
              "array([[  0.5,   1. ,   1.5,   2. ],\n",
              "       [  2. ,   1.5, 100. , 100. ],\n",
              "       [  2.5,   3. , 100. , 100. ],\n",
              "       [  4. ,   3.5,  50. ,  50. ]])"
            ]
          },
          "execution_count": 132,
          "metadata": {},
          "output_type": "execute_result"
        }
      ],
      "source": [
        "#division 2 with array's every element\n",
        "arr/2"
      ]
    },
    {
      "cell_type": "code",
      "execution_count": null,
      "id": "7941b961",
      "metadata": {
        "id": "7941b961",
        "outputId": "dffc3dbd-3d41-49a7-8e86-5a68d53bf2ce"
      },
      "outputs": [
        {
          "data": {
            "text/plain": [
              "array([[False, False, False, False],\n",
              "       [False, False,  True,  True],\n",
              "       [False, False,  True,  True],\n",
              "       [False, False,  True,  True]])"
            ]
          },
          "execution_count": 133,
          "metadata": {},
          "output_type": "execute_result"
        }
      ],
      "source": [
        "#use of condition to check array's elements\n",
        "arr>10"
      ]
    },
    {
      "cell_type": "code",
      "execution_count": null,
      "id": "66f83b85",
      "metadata": {
        "id": "66f83b85",
        "outputId": "c4f279ef-12cb-409e-e2b0-832d0257a493"
      },
      "outputs": [
        {
          "data": {
            "text/plain": [
              "array([200, 200, 200, 200, 100, 100])"
            ]
          },
          "execution_count": 134,
          "metadata": {},
          "output_type": "execute_result"
        }
      ],
      "source": [
        "#print the exact elements that maintains this condition\n",
        "arr[arr>10]"
      ]
    },
    {
      "cell_type": "code",
      "execution_count": null,
      "id": "659251de",
      "metadata": {
        "id": "659251de"
      },
      "outputs": [],
      "source": [
        "#take two array and merge them\n",
        "\n",
        "arr1=np.arange(1,17,step=1).reshape(4,4)\n",
        "arr2=np.arange(17,33,step=1).reshape(4,4)"
      ]
    },
    {
      "cell_type": "code",
      "execution_count": null,
      "id": "a6dad2aa",
      "metadata": {
        "id": "a6dad2aa",
        "outputId": "eae0efa3-1a53-44a2-b859-7dbb1b4ad2f5"
      },
      "outputs": [
        {
          "name": "stdout",
          "output_type": "stream",
          "text": [
            "[[ 1  2  3  4]\n",
            " [ 5  6  7  8]\n",
            " [ 9 10 11 12]\n",
            " [13 14 15 16]]\n"
          ]
        }
      ],
      "source": [
        "print(arr1)"
      ]
    },
    {
      "cell_type": "code",
      "execution_count": null,
      "id": "7cca627f",
      "metadata": {
        "id": "7cca627f",
        "outputId": "00503a6d-9dbc-4a39-c734-c3f72750c06a"
      },
      "outputs": [
        {
          "name": "stdout",
          "output_type": "stream",
          "text": [
            "[[17 18 19 20]\n",
            " [21 22 23 24]\n",
            " [25 26 27 28]\n",
            " [29 30 31 32]]\n"
          ]
        }
      ],
      "source": [
        "print(arr2)"
      ]
    },
    {
      "cell_type": "code",
      "execution_count": null,
      "id": "69a94a8a",
      "metadata": {
        "id": "69a94a8a",
        "outputId": "866a8d35-568c-4bf2-d636-c157e8ff740f"
      },
      "outputs": [
        {
          "data": {
            "text/plain": [
              "array([[18, 20, 22, 24],\n",
              "       [26, 28, 30, 32],\n",
              "       [34, 36, 38, 40],\n",
              "       [42, 44, 46, 48]])"
            ]
          },
          "execution_count": 153,
          "metadata": {},
          "output_type": "execute_result"
        }
      ],
      "source": [
        "#add two array\n",
        "arr1+arr2"
      ]
    },
    {
      "cell_type": "code",
      "execution_count": null,
      "id": "12d78f91",
      "metadata": {
        "id": "12d78f91",
        "outputId": "389a5b81-8f5d-4367-fc3f-213d6d6e40a4"
      },
      "outputs": [
        {
          "data": {
            "text/plain": [
              "array([[ 17,  36,  57,  80],\n",
              "       [105, 132, 161, 192],\n",
              "       [225, 260, 297, 336],\n",
              "       [377, 420, 465, 512]])"
            ]
          },
          "execution_count": 169,
          "metadata": {},
          "output_type": "execute_result"
        }
      ],
      "source": [
        "#multiplicaton two array\n",
        "arr1*arr2"
      ]
    },
    {
      "cell_type": "code",
      "execution_count": null,
      "id": "e2495803",
      "metadata": {
        "id": "e2495803",
        "outputId": "98305cb1-d32f-42c6-926b-e4b173a69b34"
      },
      "outputs": [
        {
          "data": {
            "text/plain": [
              "array([1., 1., 1., 1., 1.])"
            ]
          },
          "execution_count": 154,
          "metadata": {},
          "output_type": "execute_result"
        }
      ],
      "source": [
        "#use of ones function\n",
        "np.ones(5)"
      ]
    },
    {
      "cell_type": "code",
      "execution_count": null,
      "id": "86b74e65",
      "metadata": {
        "id": "86b74e65",
        "outputId": "d2ffb2d2-e80a-4468-bf7b-b8829dd30f3b"
      },
      "outputs": [
        {
          "data": {
            "text/plain": [
              "array([[1., 1., 1., 1.],\n",
              "       [1., 1., 1., 1.],\n",
              "       [1., 1., 1., 1.]])"
            ]
          },
          "execution_count": 159,
          "metadata": {},
          "output_type": "execute_result"
        }
      ],
      "source": [
        "np.ones((3,4),dtype=float)"
      ]
    },
    {
      "cell_type": "code",
      "execution_count": null,
      "id": "8436b494",
      "metadata": {
        "id": "8436b494",
        "outputId": "83b8c128-f34e-468e-d207-1e654bc59d72"
      },
      "outputs": [
        {
          "data": {
            "text/plain": [
              "array([[0, 0, 0],\n",
              "       [0, 0, 0],\n",
              "       [0, 0, 0],\n",
              "       [0, 0, 0]])"
            ]
          },
          "execution_count": 161,
          "metadata": {},
          "output_type": "execute_result"
        }
      ],
      "source": [
        "#use of zeros function\n",
        "np.zeros((4,3),dtype=int)"
      ]
    },
    {
      "cell_type": "markdown",
      "id": "3976825e",
      "metadata": {
        "id": "3976825e"
      },
      "source": [
        "#random value generates using rand() function\n"
      ]
    },
    {
      "cell_type": "code",
      "execution_count": null,
      "id": "5324579b",
      "metadata": {
        "id": "5324579b",
        "outputId": "3d853fdb-fded-440c-90b2-e3c1c8710c36"
      },
      "outputs": [
        {
          "data": {
            "text/plain": [
              "array([[0.56916303, 0.34904138, 0.22264739],\n",
              "       [0.22787705, 0.81967185, 0.93339916],\n",
              "       [0.65890009, 0.18335072, 0.41617086]])"
            ]
          },
          "execution_count": 166,
          "metadata": {},
          "output_type": "execute_result"
        }
      ],
      "source": [
        "np.random.rand(3,3)"
      ]
    },
    {
      "cell_type": "code",
      "execution_count": null,
      "id": "6774e5ad",
      "metadata": {
        "id": "6774e5ad",
        "outputId": "791e4345-3d35-4e4a-e3e2-1153eeba37f7"
      },
      "outputs": [
        {
          "data": {
            "text/plain": [
              "array([[-0.45124174,  0.43513844,  0.41195969,  0.28352086],\n",
              "       [ 1.0712837 , -0.09442971, -0.02665119, -0.5631201 ],\n",
              "       [ 1.06859365,  0.240705  , -0.9047741 , -0.34151403],\n",
              "       [ 1.97134062, -0.10203838,  1.77565513, -0.60865913]])"
            ]
          },
          "execution_count": 168,
          "metadata": {},
          "output_type": "execute_result"
        }
      ],
      "source": [
        "#it is used in normal distribution of matplot\n",
        "np.random.randn(4,4)"
      ]
    },
    {
      "cell_type": "code",
      "execution_count": null,
      "id": "fe69dfdb",
      "metadata": {
        "id": "fe69dfdb"
      },
      "outputs": [],
      "source": []
    }
  ],
  "metadata": {
    "kernelspec": {
      "display_name": "Python 3 (ipykernel)",
      "language": "python",
      "name": "python3"
    },
    "language_info": {
      "codemirror_mode": {
        "name": "ipython",
        "version": 3
      },
      "file_extension": ".py",
      "mimetype": "text/x-python",
      "name": "python",
      "nbconvert_exporter": "python",
      "pygments_lexer": "ipython3",
      "version": "3.11.5"
    },
    "colab": {
      "provenance": [],
      "include_colab_link": true
    }
  },
  "nbformat": 4,
  "nbformat_minor": 5
}